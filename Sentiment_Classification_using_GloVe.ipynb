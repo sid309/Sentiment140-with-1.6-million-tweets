{
  "nbformat": 4,
  "nbformat_minor": 0,
  "metadata": {
    "colab": {
      "name": "Sentiment Classification using GloVe.ipynb",
      "provenance": []
    },
    "kernelspec": {
      "name": "python3",
      "display_name": "Python 3"
    },
    "language_info": {
      "name": "python"
    },
    "accelerator": "GPU"
  },
  "cells": [
    {
      "cell_type": "code",
      "metadata": {
        "id": "Wq3iuYKB8qps"
      },
      "source": [
        "import json\n",
        "import tensorflow as tf\n",
        "import csv\n",
        "import numpy as np\n",
        "import random\n",
        "from tensorflow.keras.preprocessing.text import Tokenizer\n",
        "from tensorflow.keras.preprocessing.sequence import pad_sequences\n",
        "from tensorflow.keras.utils import to_categorical\n",
        "from tensorflow.keras import regularizers"
      ],
      "execution_count": 1,
      "outputs": []
    },
    {
      "cell_type": "code",
      "metadata": {
        "id": "wgnmnaKi6TKe"
      },
      "source": [
        "embedding_dim=100\n",
        "max_length=16\n",
        "trunc_type='post'\n",
        "padding_type='post'\n",
        "oov_tok='<OOV>'\n",
        "training_size=160000\n",
        "test_portion=0.1\n",
        "corpus=[]"
      ],
      "execution_count": 2,
      "outputs": []
    },
    {
      "cell_type": "code",
      "metadata": {
        "colab": {
          "base_uri": "https://localhost:8080/"
        },
        "id": "QoCEJJuA6q6a",
        "outputId": "a2dbe889-11ee-4ff0-ac56-4ebcaf22f1aa"
      },
      "source": [
        "!gdown --id 1wd8KaeCSHxt-nEpMeuHFSNWrDp8joUXJ"
      ],
      "execution_count": 3,
      "outputs": [
        {
          "output_type": "stream",
          "text": [
            "Downloading...\n",
            "From: https://drive.google.com/uc?id=1wd8KaeCSHxt-nEpMeuHFSNWrDp8joUXJ\n",
            "To: /content/training_cleaned.csv\n",
            "239MB [00:01, 222MB/s]\n"
          ],
          "name": "stdout"
        }
      ]
    },
    {
      "cell_type": "code",
      "metadata": {
        "id": "72L5ebJb63rc"
      },
      "source": [
        "num_sentences=0\n",
        "with open('/content/training_cleaned.csv','r') as csvfile:\n",
        "  reader=csv.reader(csvfile,delimiter=',')\n",
        "  next(reader) \n",
        "  for  row in reader:\n",
        "    list_item=[]\n",
        "    list_item.append(row[5])\n",
        "    list_label=row[0]\n",
        "    if list_label=='0':\n",
        "      list_item.append(0)\n",
        "    else:\n",
        "      list_item.append(1)\n",
        "    num_sentences=num_sentences+1\n",
        "    corpus.append(list_item)"
      ],
      "execution_count": 4,
      "outputs": []
    },
    {
      "cell_type": "code",
      "metadata": {
        "colab": {
          "base_uri": "https://localhost:8080/"
        },
        "id": "3Cery6mP9V3y",
        "outputId": "55421f1f-9bc6-4815-c57c-3e21228b0f92"
      },
      "source": [
        "print(num_sentences)\n",
        "print(len(corpus))\n",
        "print(corpus[1])\n",
        "print(np.array(corpus).shape)"
      ],
      "execution_count": 5,
      "outputs": [
        {
          "output_type": "stream",
          "text": [
            "1599999\n",
            "1599999\n",
            "['@Kenichan I dived many times for the ball. Managed to save 50%  The rest go out of bounds', 0]\n",
            "(1599999, 2)\n"
          ],
          "name": "stdout"
        }
      ]
    },
    {
      "cell_type": "code",
      "metadata": {
        "id": "yplFDZed9Z5S"
      },
      "source": [
        "sentences=[]\n",
        "labels=[]\n",
        "random.shuffle(corpus)\n",
        "for x in range(training_size):\n",
        "  sentences.append(corpus[x][0])\n",
        "  labels.append(corpus[x][1])\n",
        "\n",
        "tokenizer=Tokenizer(oov_token=oov_tok)\n",
        "tokenizer.fit_on_texts(sentences)\n",
        "word_index=tokenizer.word_index\n",
        "vocab_size=len(word_index)\n",
        "sequences=tokenizer.texts_to_sequences(sentences)\n",
        "padded=pad_sequences(sequences,maxlen=max_length,padding=padding_type,truncating=trunc_type)\n",
        "split=int(training_size*test_portion)\n",
        "test_sequences = padded[split:]\n",
        "training_sequences = padded[:split]\n",
        "test_labels = labels[split:]\n",
        "training_labels = labels[:split]"
      ],
      "execution_count": 6,
      "outputs": []
    },
    {
      "cell_type": "code",
      "metadata": {
        "colab": {
          "base_uri": "https://localhost:8080/"
        },
        "id": "UIplmiI_CCin",
        "outputId": "385f9853-4898-46d9-fede-e1e082ce9247"
      },
      "source": [
        "print(vocab_size)\n",
        "print(word_index['i'])"
      ],
      "execution_count": 7,
      "outputs": [
        {
          "output_type": "stream",
          "text": [
            "138825\n",
            "2\n"
          ],
          "name": "stdout"
        }
      ]
    },
    {
      "cell_type": "code",
      "metadata": {
        "id": "2j8dnrwNCKwn",
        "colab": {
          "base_uri": "https://localhost:8080/"
        },
        "outputId": "ccfb27b5-da3f-4872-ebda-01b528cb31cf"
      },
      "source": [
        "!gdown --id 1W5vZy2etitAblLdFn8_DxnsQKzfFJ98g"
      ],
      "execution_count": 8,
      "outputs": [
        {
          "output_type": "stream",
          "text": [
            "Downloading...\n",
            "From: https://drive.google.com/uc?id=1W5vZy2etitAblLdFn8_DxnsQKzfFJ98g\n",
            "To: /content/glove.6B.100d.txt\n",
            "347MB [00:01, 210MB/s]\n"
          ],
          "name": "stdout"
        }
      ]
    },
    {
      "cell_type": "code",
      "metadata": {
        "id": "qsgTBCWMCNHg"
      },
      "source": [
        "embeddings_index = {};\n",
        "with open('/content/glove.6B.100d.txt') as f:\n",
        "    for line in f:\n",
        "        values = line.split();\n",
        "        word = values[0];\n",
        "        coefs = np.asarray(values[1:], dtype='float32');\n",
        "        embeddings_index[word] = coefs;\n",
        "\n",
        "embeddings_matrix = np.zeros((vocab_size+1, embedding_dim));\n",
        "for word, i in word_index.items():\n",
        "    embedding_vector = embeddings_index.get(word);\n",
        "    if embedding_vector is not None:\n",
        "        embeddings_matrix[i] = embedding_vector;"
      ],
      "execution_count": 9,
      "outputs": []
    },
    {
      "cell_type": "code",
      "metadata": {
        "colab": {
          "base_uri": "https://localhost:8080/"
        },
        "id": "ueb-BkGjwfAk",
        "outputId": "1b33588d-a81f-47dc-fef4-998dba90c11e"
      },
      "source": [
        "print(len(embeddings_matrix))"
      ],
      "execution_count": 10,
      "outputs": [
        {
          "output_type": "stream",
          "text": [
            "138826\n"
          ],
          "name": "stdout"
        }
      ]
    },
    {
      "cell_type": "code",
      "metadata": {
        "colab": {
          "base_uri": "https://localhost:8080/"
        },
        "id": "aoVMUh3Awj7I",
        "outputId": "da7a8259-a2d5-4196-da0a-022a75f36612"
      },
      "source": [
        "model = tf.keras.Sequential([\n",
        "    tf.keras.layers.Embedding(vocab_size+1, embedding_dim, input_length=max_length, weights=[embeddings_matrix], trainable=False),\n",
        "    tf.keras.layers.Dropout(0.2),\n",
        "    tf.keras.layers.Conv1D(64,5,activation='relu'),\n",
        "    tf.keras.layers.MaxPool1D(pool_size=4),\n",
        "    tf.keras.layers.LSTM(64),\n",
        "    tf.keras.layers.Dense(1, activation='sigmoid')\n",
        "])\n",
        "model.compile(optimizer='adam',loss='binary_crossentropy',metrics=['accuracy'])\n",
        "model.summary()\n",
        "\n",
        "training_padded = np.array(training_sequences)\n",
        "training_labels = np.array(training_labels)\n",
        "testing_padded = np.array(test_sequences)\n",
        "testing_labels = np.array(test_labels)\n",
        "\n",
        "num_epochs = 50\n",
        "history = model.fit(training_padded, training_labels, epochs=num_epochs, validation_data=(testing_padded, testing_labels), verbose=2)\n",
        "\n",
        "print(\"Training Complete\")"
      ],
      "execution_count": 11,
      "outputs": [
        {
          "output_type": "stream",
          "text": [
            "Model: \"sequential\"\n",
            "_________________________________________________________________\n",
            "Layer (type)                 Output Shape              Param #   \n",
            "=================================================================\n",
            "embedding (Embedding)        (None, 16, 100)           13882600  \n",
            "_________________________________________________________________\n",
            "dropout (Dropout)            (None, 16, 100)           0         \n",
            "_________________________________________________________________\n",
            "conv1d (Conv1D)              (None, 12, 64)            32064     \n",
            "_________________________________________________________________\n",
            "max_pooling1d (MaxPooling1D) (None, 3, 64)             0         \n",
            "_________________________________________________________________\n",
            "lstm (LSTM)                  (None, 64)                33024     \n",
            "_________________________________________________________________\n",
            "dense (Dense)                (None, 1)                 65        \n",
            "=================================================================\n",
            "Total params: 13,947,753\n",
            "Trainable params: 65,153\n",
            "Non-trainable params: 13,882,600\n",
            "_________________________________________________________________\n",
            "Epoch 1/50\n",
            "500/500 - 40s - loss: 0.6268 - accuracy: 0.6458 - val_loss: 0.6106 - val_accuracy: 0.6694\n",
            "Epoch 2/50\n",
            "500/500 - 8s - loss: 0.5756 - accuracy: 0.6976 - val_loss: 0.5798 - val_accuracy: 0.6940\n",
            "Epoch 3/50\n",
            "500/500 - 8s - loss: 0.5403 - accuracy: 0.7254 - val_loss: 0.5527 - val_accuracy: 0.7145\n",
            "Epoch 4/50\n",
            "500/500 - 8s - loss: 0.5185 - accuracy: 0.7390 - val_loss: 0.5527 - val_accuracy: 0.7150\n",
            "Epoch 5/50\n",
            "500/500 - 8s - loss: 0.4909 - accuracy: 0.7562 - val_loss: 0.5587 - val_accuracy: 0.7142\n",
            "Epoch 6/50\n",
            "500/500 - 8s - loss: 0.4669 - accuracy: 0.7729 - val_loss: 0.5707 - val_accuracy: 0.7119\n",
            "Epoch 7/50\n",
            "500/500 - 8s - loss: 0.4382 - accuracy: 0.7919 - val_loss: 0.5942 - val_accuracy: 0.7033\n",
            "Epoch 8/50\n",
            "500/500 - 8s - loss: 0.4112 - accuracy: 0.8075 - val_loss: 0.5967 - val_accuracy: 0.7079\n",
            "Epoch 9/50\n",
            "500/500 - 8s - loss: 0.3955 - accuracy: 0.8193 - val_loss: 0.6377 - val_accuracy: 0.7017\n",
            "Epoch 10/50\n",
            "500/500 - 8s - loss: 0.3818 - accuracy: 0.8234 - val_loss: 0.6250 - val_accuracy: 0.7002\n",
            "Epoch 11/50\n",
            "500/500 - 12s - loss: 0.3669 - accuracy: 0.8294 - val_loss: 0.6460 - val_accuracy: 0.7022\n",
            "Epoch 12/50\n",
            "500/500 - 8s - loss: 0.3529 - accuracy: 0.8427 - val_loss: 0.6542 - val_accuracy: 0.6966\n",
            "Epoch 13/50\n",
            "500/500 - 8s - loss: 0.3367 - accuracy: 0.8484 - val_loss: 0.6737 - val_accuracy: 0.6988\n",
            "Epoch 14/50\n",
            "500/500 - 8s - loss: 0.3274 - accuracy: 0.8545 - val_loss: 0.6602 - val_accuracy: 0.6973\n",
            "Epoch 15/50\n",
            "500/500 - 8s - loss: 0.3176 - accuracy: 0.8577 - val_loss: 0.6897 - val_accuracy: 0.6889\n",
            "Epoch 16/50\n",
            "500/500 - 12s - loss: 0.3061 - accuracy: 0.8661 - val_loss: 0.7095 - val_accuracy: 0.6937\n",
            "Epoch 17/50\n",
            "500/500 - 8s - loss: 0.2990 - accuracy: 0.8683 - val_loss: 0.7087 - val_accuracy: 0.6989\n",
            "Epoch 18/50\n",
            "500/500 - 8s - loss: 0.2825 - accuracy: 0.8789 - val_loss: 0.7043 - val_accuracy: 0.6899\n",
            "Epoch 19/50\n",
            "500/500 - 8s - loss: 0.2774 - accuracy: 0.8784 - val_loss: 0.7135 - val_accuracy: 0.6933\n",
            "Epoch 20/50\n",
            "500/500 - 8s - loss: 0.2658 - accuracy: 0.8838 - val_loss: 0.7616 - val_accuracy: 0.6899\n",
            "Epoch 21/50\n",
            "500/500 - 8s - loss: 0.2678 - accuracy: 0.8849 - val_loss: 0.7405 - val_accuracy: 0.6874\n",
            "Epoch 22/50\n",
            "500/500 - 8s - loss: 0.2517 - accuracy: 0.8925 - val_loss: 0.7680 - val_accuracy: 0.6902\n",
            "Epoch 23/50\n",
            "500/500 - 8s - loss: 0.2494 - accuracy: 0.8926 - val_loss: 0.8199 - val_accuracy: 0.6916\n",
            "Epoch 24/50\n",
            "500/500 - 8s - loss: 0.2430 - accuracy: 0.8966 - val_loss: 0.7997 - val_accuracy: 0.6944\n",
            "Epoch 25/50\n",
            "500/500 - 8s - loss: 0.2348 - accuracy: 0.9007 - val_loss: 0.8141 - val_accuracy: 0.6889\n",
            "Epoch 26/50\n",
            "500/500 - 12s - loss: 0.2288 - accuracy: 0.9024 - val_loss: 0.8577 - val_accuracy: 0.6891\n",
            "Epoch 27/50\n",
            "500/500 - 8s - loss: 0.2288 - accuracy: 0.9041 - val_loss: 0.8382 - val_accuracy: 0.6829\n",
            "Epoch 28/50\n",
            "500/500 - 8s - loss: 0.2196 - accuracy: 0.9088 - val_loss: 0.8235 - val_accuracy: 0.6852\n",
            "Epoch 29/50\n",
            "500/500 - 8s - loss: 0.2166 - accuracy: 0.9087 - val_loss: 0.8307 - val_accuracy: 0.6904\n",
            "Epoch 30/50\n",
            "500/500 - 8s - loss: 0.2095 - accuracy: 0.9119 - val_loss: 0.8495 - val_accuracy: 0.6848\n",
            "Epoch 31/50\n",
            "500/500 - 8s - loss: 0.2013 - accuracy: 0.9149 - val_loss: 0.8988 - val_accuracy: 0.6866\n",
            "Epoch 32/50\n",
            "500/500 - 8s - loss: 0.2074 - accuracy: 0.9118 - val_loss: 0.8801 - val_accuracy: 0.6908\n",
            "Epoch 33/50\n",
            "500/500 - 8s - loss: 0.1982 - accuracy: 0.9169 - val_loss: 0.8915 - val_accuracy: 0.6824\n",
            "Epoch 34/50\n",
            "500/500 - 8s - loss: 0.1955 - accuracy: 0.9176 - val_loss: 0.9051 - val_accuracy: 0.6867\n",
            "Epoch 35/50\n",
            "500/500 - 8s - loss: 0.1898 - accuracy: 0.9199 - val_loss: 0.9263 - val_accuracy: 0.6840\n",
            "Epoch 36/50\n",
            "500/500 - 8s - loss: 0.1953 - accuracy: 0.9194 - val_loss: 0.9324 - val_accuracy: 0.6817\n",
            "Epoch 37/50\n",
            "500/500 - 11s - loss: 0.1864 - accuracy: 0.9216 - val_loss: 0.8967 - val_accuracy: 0.6871\n",
            "Epoch 38/50\n",
            "500/500 - 8s - loss: 0.1870 - accuracy: 0.9219 - val_loss: 0.9323 - val_accuracy: 0.6826\n",
            "Epoch 39/50\n",
            "500/500 - 8s - loss: 0.1797 - accuracy: 0.9264 - val_loss: 0.9498 - val_accuracy: 0.6856\n",
            "Epoch 40/50\n",
            "500/500 - 8s - loss: 0.1827 - accuracy: 0.9277 - val_loss: 0.9115 - val_accuracy: 0.6853\n",
            "Epoch 41/50\n",
            "500/500 - 8s - loss: 0.1700 - accuracy: 0.9311 - val_loss: 0.9837 - val_accuracy: 0.6808\n",
            "Epoch 42/50\n",
            "500/500 - 8s - loss: 0.1679 - accuracy: 0.9316 - val_loss: 0.9557 - val_accuracy: 0.6861\n",
            "Epoch 43/50\n",
            "500/500 - 12s - loss: 0.1681 - accuracy: 0.9323 - val_loss: 0.9497 - val_accuracy: 0.6847\n",
            "Epoch 44/50\n",
            "500/500 - 8s - loss: 0.1628 - accuracy: 0.9328 - val_loss: 1.0039 - val_accuracy: 0.6822\n",
            "Epoch 45/50\n",
            "500/500 - 8s - loss: 0.1648 - accuracy: 0.9331 - val_loss: 1.0608 - val_accuracy: 0.6790\n",
            "Epoch 46/50\n",
            "500/500 - 11s - loss: 0.1600 - accuracy: 0.9358 - val_loss: 0.9983 - val_accuracy: 0.6892\n",
            "Epoch 47/50\n",
            "500/500 - 8s - loss: 0.1648 - accuracy: 0.9319 - val_loss: 0.9920 - val_accuracy: 0.6824\n",
            "Epoch 48/50\n",
            "500/500 - 8s - loss: 0.1586 - accuracy: 0.9349 - val_loss: 0.9713 - val_accuracy: 0.6824\n",
            "Epoch 49/50\n",
            "500/500 - 8s - loss: 0.1564 - accuracy: 0.9370 - val_loss: 1.0181 - val_accuracy: 0.6839\n",
            "Epoch 50/50\n",
            "500/500 - 8s - loss: 0.1463 - accuracy: 0.9427 - val_loss: 1.0828 - val_accuracy: 0.6767\n",
            "Training Complete\n"
          ],
          "name": "stdout"
        }
      ]
    },
    {
      "cell_type": "code",
      "metadata": {
        "colab": {
          "base_uri": "https://localhost:8080/",
          "height": 609
        },
        "id": "39a0XFi1xgsL",
        "outputId": "847e5919-86bb-4f6d-a460-a4c17485655f"
      },
      "source": [
        "import matplotlib.image  as mpimg\n",
        "import matplotlib.pyplot as plt\n",
        "\n",
        "acc=history.history['accuracy']\n",
        "val_acc=history.history['val_accuracy']\n",
        "loss=history.history['loss']\n",
        "val_loss=history.history['val_loss']\n",
        "\n",
        "epochs=range(len(acc))\n",
        "\n",
        "plt.plot(epochs, acc, 'r')\n",
        "plt.plot(epochs, val_acc, 'b')\n",
        "plt.title('Training and validation accuracy')\n",
        "plt.xlabel(\"Epochs\")\n",
        "plt.ylabel(\"Accuracy\")\n",
        "plt.legend([\"Accuracy\", \"Validation Accuracy\"])\n",
        "\n",
        "plt.figure()\n",
        "\n",
        "plt.plot(epochs, loss, 'r')\n",
        "plt.plot(epochs, val_loss, 'b')\n",
        "plt.title('Training and validation loss')\n",
        "plt.xlabel(\"Epochs\")\n",
        "plt.ylabel(\"Loss\")\n",
        "plt.legend([\"Loss\", \"Validation Loss\"])\n",
        "\n",
        "plt.figure()"
      ],
      "execution_count": 12,
      "outputs": [
        {
          "output_type": "execute_result",
          "data": {
            "text/plain": [
              "<Figure size 432x288 with 0 Axes>"
            ]
          },
          "metadata": {},
          "execution_count": 12
        },
        {
          "output_type": "display_data",
          "data": {
            "image/png": "[encoded data removed]",
            "text/plain": [
              "<Figure size 432x288 with 1 Axes>"
            ]
          },
          "metadata": {
            "needs_background": "light"
          }
        },
        {
          "output_type": "display_data",
          "data": {
            "image/png": "[encoded data removed]",
            "text/plain": [
              "<Figure size 432x288 with 1 Axes>"
            ]
          },
          "metadata": {
            "needs_background": "light"
          }
        },
        {
          "output_type": "display_data",
          "data": {
            "text/plain": [
              "<Figure size 432x288 with 0 Axes>"
            ]
          },
          "metadata": {}
        }
      ]
    },
    {
      "cell_type": "code",
      "metadata": {
        "id": "0JgOM5PKxoPP"
      },
      "source": [
        ""
      ],
      "execution_count": 12,
      "outputs": []
    }
  ]
}